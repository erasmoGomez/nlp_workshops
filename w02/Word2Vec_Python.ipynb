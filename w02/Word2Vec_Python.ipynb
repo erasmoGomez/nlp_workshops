{
 "cells": [
  {
   "cell_type": "markdown",
   "id": "3e1a09ae",
   "metadata": {},
   "source": [
    "### Ejemplo 2: Contar la frecuencia de cada palabra\n",
    "Podemos usar un diccionario para contar cuántas veces aparece cada palabra en un texto:"
   ]
  },
  {
   "cell_type": "code",
   "execution_count": null,
   "id": "e271f61a",
   "metadata": {},
   "outputs": [],
   "source": [
    "texto = \"la casa azul es grande y la casa azul es bonita\"\n",
    "palabras = texto.split()\n",
    "frecuencias = {}\n",
    "for palabra in palabras:\n",
    "    if palabra in frecuencias:\n",
    "        frecuencias[palabra] += 1\n",
    "    else:\n",
    "        frecuencias[palabra] = 1\n",
    "print(frecuencias)"
   ]
  },
  {
   "cell_type": "markdown",
   "id": "7df09710",
   "metadata": {},
   "source": [
    "### Ejemplo 3: Crear un array con la longitud de cada palabra\n",
    "Si queremos analizar la longitud de las palabras en un texto:"
   ]
  },
  {
   "cell_type": "code",
   "execution_count": null,
   "id": "d5703e56",
   "metadata": {},
   "outputs": [],
   "source": [
    "import numpy as np\n",
    "palabras = ['morfema', 'fonema', 'sílaba', 'palabra', 'texto']\n",
    "longitudes = np.array([len(p) for p in palabras])\n",
    "print('Longitud de cada palabra:', longitudes)"
   ]
  },
  {
   "cell_type": "markdown",
   "id": "541160dd",
   "metadata": {},
   "source": [
    "### Ejercicio práctico\n",
    "Toma la siguiente oración: \"El análisis morfosintáctico es fundamental en lingüística.\"\n",
    "- Divide la oración en palabras.\n",
    "- Crea una lista con la longitud de cada palabra.\n",
    "- Imprime ambas listas."
   ]
  },
  {
   "cell_type": "markdown",
   "id": "099b5f6d",
   "metadata": {},
   "source": [
    "## 12. Introducción a Word2Vec\n",
    "\n",
    "**Word2Vec** es una técnica computacional que convierte palabras en vectores de números, representando el significado y relaciones entre ellas. Si dos palabras aparecen en contextos similares, sus vectores también serán similares.\n",
    "\n",
    "### Ejemplo práctico con gensim"
   ]
  },
  {
   "cell_type": "code",
   "execution_count": null,
   "id": "d93d7e17",
   "metadata": {},
   "outputs": [],
   "source": [
    "# Si no tienes gensim instalado, ejecuta esto:\n",
    "# !pip install gensim"
   ]
  },
  {
   "cell_type": "code",
   "execution_count": null,
   "id": "14b2e32a",
   "metadata": {},
   "outputs": [],
   "source": [
    "# Corpus sencillo tokenizado\n",
    "corpus = [\n",
    "    [\"el\", \"gato\", \"se\", \"sentó\", \"en\", \"la\", \"alfombra\"],\n",
    "    [\"el\", \"perro\", \"se\", \"echó\", \"en\", \"la\", \"alfombra\"],\n",
    "    [\"la\", \"reina\", \"y\", \"el\", \"rey\", \"viven\", \"en\", \"el\", \"castillo\"],\n",
    "    [\"el\", \"gato\", \"y\", \"el\", \"perro\", \"son\", \"amigos\"],\n",
    "    [\"la\", \"princesa\", \"es\", \"hija\", \"de\", \"la\", \"reina\"]\n",
    "]"
   ]
  },
  {
   "cell_type": "code",
   "execution_count": null,
   "id": "9ef0b65b",
   "metadata": {},
   "outputs": [],
   "source": [
    "from gensim.models import Word2Vec\n",
    "\n",
    "modelo = Word2Vec(corpus, vector_size=50, window=2, min_count=1, sg=1)"
   ]
  },
  {
   "cell_type": "markdown",
   "id": "6cd42485",
   "metadata": {},
   "source": [
    "### Palabras similares a 'reina'"
   ]
  },
  {
   "cell_type": "code",
   "execution_count": null,
   "id": "001cc13a",
   "metadata": {},
   "outputs": [],
   "source": [
    "similares = modelo.wv.most_similar(\"reina\")\n",
    "print(\"Palabras similares a 'reina':\")\n",
    "for palabra, similitud in similares:\n",
    "    print(palabra, \"->\", similitud)"
   ]
  },
  {
   "cell_type": "markdown",
   "id": "2f25078a",
   "metadata": {},
   "source": [
    "### Analogías: rey - hombre + mujer ≈ reina"
   ]
  },
  {
   "cell_type": "code",
   "execution_count": null,
   "id": "7939b3d9",
   "metadata": {},
   "outputs": [],
   "source": [
    "resultado = modelo.wv.most_similar(positive=[\"rey\", \"mujer\"], negative=[\"hombre\"])\n",
    "print(\"Resultado de la analogía rey - hombre + mujer:\", resultado[0][0])"
   ]
  },
  {
   "cell_type": "markdown",
   "id": "b9df8cd9",
   "metadata": {},
   "source": [
    "### Vector numérico de una palabra ('gato')"
   ]
  },
  {
   "cell_type": "code",
   "execution_count": null,
   "id": "62fa2db6",
   "metadata": {},
   "outputs": [],
   "source": [
    "print(\"Vector de 'gato':\")\n",
    "print(modelo.wv[\"gato\"])"
   ]
  },
  {
   "cell_type": "markdown",
   "id": "fa66fd5d",
   "metadata": {},
   "source": [
    "### Visualización de palabras en el espacio semántico\n",
    "Ahora vamos a graficar cómo Word2Vec ubicó cada palabra en un espacio de 2 dimensiones usando PCA."
   ]
  },
  {
   "cell_type": "code",
   "execution_count": null,
   "id": "17debd50",
   "metadata": {},
   "outputs": [],
   "source": [
    "import numpy as np\n",
    "import matplotlib.pyplot as plt\n",
    "from sklearn.decomposition import PCA\n",
    "\n",
    "palabras = list(modelo.wv.index_to_key)\n",
    "vectores = np.array([modelo.wv[palabra] for palabra in palabras])\n",
    "\n",
    "pca = PCA(n_components=2)\n",
    "vectores_2d = pca.fit_transform(vectores)\n",
    "\n",
    "plt.figure(figsize=(10, 7))\n",
    "plt.scatter(vectores_2d[:, 0], vectores_2d[:, 1])\n",
    "for i, palabra in enumerate(palabras):\n",
    "    plt.annotate(palabra, (vectores_2d[i, 0], vectores_2d[i, 1]), fontsize=12)\n",
    "plt.title(\"Visualización de palabras en el espacio de Word2Vec (PCA)\")\n",
    "plt.xlabel(\"Componente 1\")\n",
    "plt.ylabel(\"Componente 2\")\n",
    "plt.grid(True)\n",
    "plt.show()"
   ]
  },
  {
   "cell_type": "markdown",
   "id": "a38fb970",
   "metadata": {},
   "source": [
    "Este gráfico muestra cómo las palabras se agrupan según su significado/contexto en el espacio de Word2Vec."
   ]
  }
 ],
 "metadata": {},
 "nbformat": 4,
 "nbformat_minor": 5
}
